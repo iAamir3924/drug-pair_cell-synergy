{
 "cells": [
  {
   "cell_type": "code",
   "execution_count": 1,
   "metadata": {},
   "outputs": [
    {
     "name": "stderr",
     "output_type": "stream",
     "text": [
      "/home/dqw_lcd/anaconda3/lib/python3.7/site-packages/pandas/compat/_optional.py:138: UserWarning: Pandas requires version '2.7.0' or newer of 'numexpr' (version '2.6.9' currently installed).\n",
      "  warnings.warn(msg, UserWarning)\n"
     ]
    }
   ],
   "source": [
    "import pandas as pd\n",
    "import numpy as np\n",
    "from rdkit import Chem\n",
    "from rdkit.Chem import Descriptors\n",
    "import xgboost as xgb\n",
    "from sklearn.model_selection import train_test_split\n",
    "from sklearn.preprocessing import StandardScaler\n",
    "import tensorflow as tf\n",
    "from tensorflow.keras.models import Model\n",
    "from tensorflow.keras.layers import Dense, Input, Concatenate"
   ]
  },
  {
   "cell_type": "code",
   "execution_count": 2,
   "metadata": {},
   "outputs": [],
   "source": [
    "# Loading datasets\n",
    "dataseta = pd.read_csv('dataseta.csv')\n",
    "datasetb = pd.read_csv('datasetb.csv')"
   ]
  },
  {
   "cell_type": "code",
   "execution_count": 7,
   "metadata": {},
   "outputs": [],
   "source": [
    "# cell column as same datatype \n",
    "dataseta['cell'] = dataseta['cell'].astype(str)\n",
    "datasetb['cell'] = datasetb['cell'].astype(str)"
   ]
  },
  {
   "cell_type": "code",
   "execution_count": 3,
   "metadata": {},
   "outputs": [],
   "source": [
    "# Aamir encoding SMILES strings\n",
    "def encode_smiles(smiles):\n",
    "    mol = Chem.MolFromSmiles(smiles)\n",
    "    return [Descriptors.MolWt(mol), Descriptors.MolLogP(mol), Descriptors.NumHAcceptors(mol), Descriptors.NumHDonors(mol)]\n",
    "\n",
    "# Applying SMILES encoding\n",
    "dataseta['drug1_features'] = dataseta['drug1'].apply(encode_smiles)\n",
    "dataseta['drug2_features'] = dataseta['drug2'].apply(encode_smiles)\n",
    "\n",
    "# expanding SMILES features into separate columns\n",
    "def expand_features(row):\n",
    "    return pd.Series(row['drug1_features'] + row['drug2_features'])\n",
    "\n",
    "# Expand drug features\n",
    "expanded_features = dataseta.apply(expand_features, axis=1)"
   ]
  },
  {
   "cell_type": "code",
   "execution_count": 8,
   "metadata": {},
   "outputs": [],
   "source": [
    "# merge datasets on 'cell' column\n",
    "combined_dataset = pd.merge(dataseta[['cell', 'label']], datasetb, on='cell')\n",
    "combined_expanded_dataset = pd.concat([combined_dataset, expanded_features], axis=1)\n"
   ]
  },
  {
   "cell_type": "code",
   "execution_count": 9,
   "metadata": {},
   "outputs": [
    {
     "name": "stderr",
     "output_type": "stream",
     "text": [
      "/home/dqw_lcd/anaconda3/lib/python3.7/site-packages/sklearn/utils/validation.py:1692: FutureWarning: Feature names only support names that are all strings. Got feature names with dtypes: ['int', 'str']. An error will be raised in 1.2.\n",
      "  FutureWarning,\n",
      "/home/dqw_lcd/anaconda3/lib/python3.7/site-packages/sklearn/utils/validation.py:1692: FutureWarning: Feature names only support names that are all strings. Got feature names with dtypes: ['int', 'str']. An error will be raised in 1.2.\n",
      "  FutureWarning,\n"
     ]
    }
   ],
   "source": [
    "# handle preprocess gene expression data\n",
    "scaler = StandardScaler()\n",
    "gene_expression = combined_expanded_dataset.drop(['cell', 'label'], axis=1)\n",
    "gene_expression_scaled = scaler.fit_transform(gene_expression)"
   ]
  },
  {
   "cell_type": "code",
   "execution_count": 10,
   "metadata": {},
   "outputs": [],
   "source": [
    "# Split combined dataset for training and testing\n",
    "X_gene_train, X_gene_test, y_train, y_test = train_test_split(gene_expression_scaled, combined_expanded_dataset['label'], test_size=0.2, random_state=42)\n"
   ]
  },
  {
   "cell_type": "code",
   "execution_count": 11,
   "metadata": {},
   "outputs": [],
   "source": [
    "# MLP for gene expression data\n",
    "input_b = Input(shape=(X_gene_train.shape[1],))\n",
    "hidden_b = Dense(64, activation='relu')(input_b)\n",
    "hidden_b = Dense(32, activation='relu')(hidden_b)\n",
    "output_b = Dense(1, activation='sigmoid')(hidden_b)\n",
    "mlp_model = Model(inputs=input_b, outputs=output_b)\n",
    "mlp_model.compile(optimizer='adam', loss='binary_crossentropy', metrics=['accuracy'])\n"
   ]
  },
  {
   "cell_type": "code",
   "execution_count": 12,
   "metadata": {},
   "outputs": [
    {
     "name": "stdout",
     "output_type": "stream",
     "text": [
      "Epoch 1/10\n",
      "311/311 [==============================] - 2s 3ms/step - loss: 0.7322 - accuracy: 0.5318\n",
      "Epoch 2/10\n",
      "311/311 [==============================] - 1s 3ms/step - loss: 0.7025 - accuracy: 0.5401\n",
      "Epoch 3/10\n",
      "311/311 [==============================] - 1s 3ms/step - loss: 0.6961 - accuracy: 0.5453\n",
      "Epoch 4/10\n",
      "311/311 [==============================] - 1s 3ms/step - loss: 0.6975 - accuracy: 0.5380\n",
      "Epoch 5/10\n",
      "311/311 [==============================] - 1s 3ms/step - loss: 0.6949 - accuracy: 0.5423\n",
      "Epoch 6/10\n",
      "311/311 [==============================] - 1s 3ms/step - loss: 0.6919 - accuracy: 0.5482\n",
      "Epoch 7/10\n",
      "311/311 [==============================] - 1s 3ms/step - loss: 0.6896 - accuracy: 0.5509\n",
      "Epoch 8/10\n",
      "311/311 [==============================] - 1s 3ms/step - loss: 0.6880 - accuracy: 0.5504\n",
      "Epoch 9/10\n",
      "311/311 [==============================] - 1s 3ms/step - loss: 0.6880 - accuracy: 0.5555\n",
      "Epoch 10/10\n",
      "311/311 [==============================] - 1s 3ms/step - loss: 0.6871 - accuracy: 0.5510\n"
     ]
    },
    {
     "data": {
      "text/plain": [
       "<keras.callbacks.History at 0x7fc9d3a080f0>"
      ]
     },
     "execution_count": 12,
     "metadata": {},
     "output_type": "execute_result"
    }
   ],
   "source": [
    "# Train MLP\n",
    "mlp_model.fit(X_gene_train, y_train, epochs=10, batch_size=32)\n"
   ]
  },
  {
   "cell_type": "code",
   "execution_count": 13,
   "metadata": {},
   "outputs": [
    {
     "data": {
      "text/plain": [
       "XGBClassifier(base_score=0.5, booster='gbtree', callbacks=None,\n",
       "              colsample_bylevel=1, colsample_bynode=1, colsample_bytree=1,\n",
       "              early_stopping_rounds=None, enable_categorical=False,\n",
       "              eval_metric=None, gamma=0, gpu_id=-1, grow_policy='depthwise',\n",
       "              importance_type=None, interaction_constraints='',\n",
       "              learning_rate=0.300000012, max_bin=256, max_cat_to_onehot=4,\n",
       "              max_delta_step=0, max_depth=6, max_leaves=0, min_child_weight=1,\n",
       "              missing=nan, monotone_constraints='()', n_estimators=100,\n",
       "              n_jobs=0, num_parallel_tree=1, predictor='auto', random_state=0,\n",
       "              reg_alpha=0, reg_lambda=1, ...)"
      ]
     },
     "execution_count": 13,
     "metadata": {},
     "output_type": "execute_result"
    }
   ],
   "source": [
    "# XGBoost for SMILES data\n",
    "xgb_model = xgb.XGBClassifier()\n",
    "xgb_model.fit(X_gene_train, y_train)"
   ]
  },
  {
   "cell_type": "code",
   "execution_count": 14,
   "metadata": {},
   "outputs": [
    {
     "name": "stdout",
     "output_type": "stream",
     "text": [
      "78/78 [==============================] - 0s 2ms/step\n"
     ]
    }
   ],
   "source": [
    "# Predictions from both models for the test set\n",
    "mlp_predictions = mlp_model.predict(X_gene_test)\n",
    "xgb_predictions = xgb_model.predict_proba(X_gene_test)[:, 1]"
   ]
  },
  {
   "cell_type": "code",
   "execution_count": 15,
   "metadata": {},
   "outputs": [],
   "source": [
    "# Concatenate MLP and XGBoost outputs\n",
    "concatenated_features = np.concatenate([mlp_predictions, xgb_predictions.reshape(-1, 1)], axis=1)\n"
   ]
  },
  {
   "cell_type": "code",
   "execution_count": 16,
   "metadata": {},
   "outputs": [],
   "source": [
    "# Fully connected layer for final prediction\n",
    "final_input = Input(shape=(2,))\n",
    "final_output = Dense(1, activation='sigmoid')(final_input)\n",
    "final_model = Model(inputs=final_input, outputs=final_output)\n",
    "final_model.compile(optimizer='adam', loss='binary_crossentropy', metrics=['accuracy'])\n"
   ]
  },
  {
   "cell_type": "code",
   "execution_count": 17,
   "metadata": {},
   "outputs": [
    {
     "name": "stdout",
     "output_type": "stream",
     "text": [
      "Epoch 1/10\n",
      "78/78 [==============================] - 1s 3ms/step - loss: 0.7345 - accuracy: 0.4938\n",
      "Epoch 2/10\n",
      "78/78 [==============================] - 0s 2ms/step - loss: 0.7151 - accuracy: 0.4938\n",
      "Epoch 3/10\n",
      "78/78 [==============================] - 0s 3ms/step - loss: 0.7011 - accuracy: 0.4994\n",
      "Epoch 4/10\n",
      "78/78 [==============================] - 0s 2ms/step - loss: 0.6915 - accuracy: 0.5091\n",
      "Epoch 5/10\n",
      "78/78 [==============================] - 0s 2ms/step - loss: 0.6852 - accuracy: 0.5256\n",
      "Epoch 6/10\n",
      "78/78 [==============================] - 0s 3ms/step - loss: 0.6812 - accuracy: 0.5469\n",
      "Epoch 7/10\n",
      "78/78 [==============================] - 0s 3ms/step - loss: 0.6787 - accuracy: 0.5594\n",
      "Epoch 8/10\n",
      "78/78 [==============================] - 0s 4ms/step - loss: 0.6771 - accuracy: 0.5759\n",
      "Epoch 9/10\n",
      "78/78 [==============================] - 0s 3ms/step - loss: 0.6761 - accuracy: 0.5820\n",
      "Epoch 10/10\n",
      "78/78 [==============================] - 0s 2ms/step - loss: 0.6754 - accuracy: 0.5977\n"
     ]
    },
    {
     "data": {
      "text/plain": [
       "<keras.callbacks.History at 0x7fc9c76a3be0>"
      ]
     },
     "execution_count": 17,
     "metadata": {},
     "output_type": "execute_result"
    }
   ],
   "source": [
    "# Train final model\n",
    "final_model.fit(concatenated_features, y_test, epochs=10, batch_size=32)\n"
   ]
  },
  {
   "cell_type": "code",
   "execution_count": 18,
   "metadata": {},
   "outputs": [
    {
     "name": "stdout",
     "output_type": "stream",
     "text": [
      "78/78 [==============================] - 1s 7ms/step\n"
     ]
    }
   ],
   "source": [
    "# final model prediction\n",
    "final_predictions = final_model.predict(concatenated_features)"
   ]
  },
  {
   "cell_type": "code",
   "execution_count": 19,
   "metadata": {},
   "outputs": [],
   "source": [
    "# predictions to binary cnvrsion\n",
    "final_binary_predictions = (final_predictions > 0.5).astype(int)"
   ]
  },
  {
   "cell_type": "code",
   "execution_count": 21,
   "metadata": {},
   "outputs": [
    {
     "name": "stderr",
     "output_type": "stream",
     "text": [
      "/home/dqw_lcd/anaconda3/lib/python3.7/site-packages/statsmodels/tools/_testing.py:19: FutureWarning: pandas.util.testing is deprecated. Use the functions in the public API at pandas.testing instead.\n",
      "  import pandas.util.testing as tm\n"
     ]
    }
   ],
   "source": [
    "import pandas as pd\n",
    "import numpy as np\n",
    "from sklearn.metrics import accuracy_score, roc_curve, auc, confusion_matrix\n",
    "import matplotlib.pyplot as plt\n",
    "import seaborn as sns"
   ]
  },
  {
   "cell_type": "code",
   "execution_count": 22,
   "metadata": {},
   "outputs": [
    {
     "name": "stdout",
     "output_type": "stream",
     "text": [
      "Accuracy: 0.6073298429319371\n"
     ]
    }
   ],
   "source": [
    "# accuracy\n",
    "accuracy = accuracy_score(y_test, final_binary_predictions)\n",
    "print(f\"Accuracy: {accuracy}\")\n"
   ]
  },
  {
   "cell_type": "code",
   "execution_count": 24,
   "metadata": {},
   "outputs": [],
   "source": [
    "\n",
    "# ROC-AUC curve\n",
    "fpr, tpr, thresholds = roc_curve(y_test, final_predictions)\n",
    "roc_auc = auc(fpr, tpr)"
   ]
  },
  {
   "cell_type": "code",
   "execution_count": 25,
   "metadata": {},
   "outputs": [
    {
     "data": {
      "image/png": "[encoded data removed]",
      "text/plain": [
       "<Figure size 432x288 with 1 Axes>"
      ]
     },
     "metadata": {
      "needs_background": "light"
     },
     "output_type": "display_data"
    }
   ],
   "source": [
    "plt.figure()\n",
    "plt.plot(fpr, tpr, color='darkorange', lw=2, label=f'ROC curve (area = {roc_auc:0.2f})')\n",
    "plt.plot([0, 1], [0, 1], color='navy', lw=2, linestyle='--')\n",
    "plt.xlim([0.0, 1.0])\n",
    "plt.ylim([0.0, 1.05])\n",
    "plt.xlabel('False Positive Rate')\n",
    "plt.ylabel('True Positive Rate')\n",
    "plt.title('Receiver Operating Characteristic')\n",
    "plt.legend(loc=\"lower right\")\n",
    "plt.show()\n"
   ]
  },
  {
   "cell_type": "code",
   "execution_count": 26,
   "metadata": {},
   "outputs": [
    {
     "data": {
      "image/png": "[encoded data removed]",
      "text/plain": [
       "<Figure size 432x288 with 2 Axes>"
      ]
     },
     "metadata": {
      "needs_background": "light"
     },
     "output_type": "display_data"
    }
   ],
   "source": [
    "# confusion mtrx\n",
    "cm = confusion_matrix(y_test, final_binary_predictions)\n",
    "sns.heatmap(cm, annot=True, fmt=\"d\")\n",
    "plt.title('Confusion Matrix')\n",
    "plt.ylabel('Actual label')\n",
    "plt.xlabel('Predicted label')\n",
    "plt.show()"
   ]
  }
 ],
 "metadata": {
  "kernelspec": {
   "display_name": "base",
   "language": "python",
   "name": "python3"
  },
  "language_info": {
   "codemirror_mode": {
    "name": "ipython",
    "version": 3
   },
   "file_extension": ".py",
   "mimetype": "text/x-python",
   "name": "python",
   "nbconvert_exporter": "python",
   "pygments_lexer": "ipython3",
   "version": "3.7.3"
  }
 },
 "nbformat": 4,
 "nbformat_minor": 2
}
